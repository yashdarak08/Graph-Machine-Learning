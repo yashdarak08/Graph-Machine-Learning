{
 "cells": [
  {
   "cell_type": "markdown",
   "metadata": {},
   "source": [
    "# Exploratory Data Analysis (EDA) for Processed Financial Data\n",
    "\n",
    "This notebook explores the processed financial data stored in `data/processed/processed_data.csv`. We will:\n",
    "- Load and inspect the dataset\n",
    "- Display summary statistics and data information\n",
    "- Visualize the distribution of company values\n",
    "- Analyze records over time (if dates are available)\n",
    "- Display a correlation matrix (if applicable)"
   ]
  },
  {
   "cell_type": "code",
   "execution_count": null,
   "metadata": {},
   "outputs": [],
   "source": [
    "import pandas as pd\n",
    "import matplotlib.pyplot as plt\n",
    "import seaborn as sns\n",
    "\n",
    "# Enable inline plotting\n",
    "%matplotlib inline\n",
    "\n",
    "# Load the processed data\n",
    "df = pd.read_csv('../data/processed/processed_data.csv')\n",
    "\n",
    "# Display the first few rows\n",
    "print('First few rows of the dataset:')\n",
    "display(df.head())\n",
    "\n",
    "# Display summary statistics\n",
    "print('Summary statistics:')\n",
    "display(df.describe())\n",
    "\n",
    "# Display data information\n",
    "print('Dataset info:')\n",
    "df.info()"
   ]
  },
  {
   "cell_type": "code",
   "execution_count": null,
   "metadata": {},
   "outputs": [],
   "source": [
    "# Plot the distribution of company values\n",
    "plt.figure(figsize=(10, 6))\n",
    "sns.histplot(df['value'], bins=20, kde=True)\n",
    "plt.xlabel('Company Value')\n",
    "plt.ylabel('Frequency')\n",
    "plt.title('Distribution of Company Values')\n",
    "plt.show()"
   ]
  },
  {
   "cell_type": "code",
   "execution_count": null,
   "metadata": {},
   "outputs": [],
   "source": [
    "# If the date column is available, convert it to datetime and plot records per date\n",
    "if 'date' in df.columns:\n",
    "    df['date'] = pd.to_datetime(df['date'], errors='coerce')\n",
    "    print(f\"Unique dates in dataset: {df['date'].nunique()}\")\n",
    "    \n",
    "    # Plot number of records per date\n",
    "    plt.figure(figsize=(12, 6))\n",
    "    df['date'].value_counts().sort_index().plot(kind='line')\n",
    "    plt.xlabel('Date')\n",
    "    plt.ylabel('Number of Records')\n",
    "    plt.title('Records per Date')\n",
    "    plt.show()"
   ]
  },
  {
   "cell_type": "code",
   "execution_count": null,
   "metadata": {},
   "outputs": [],
   "source": [
    "# Display a correlation matrix for numeric columns (if more exist)\n",
    "plt.figure(figsize=(8, 6))\n",
    "sns.heatmap(df.corr(), annot=True, cmap='coolwarm')\n",
    "plt.title('Correlation Matrix')\n",
    "plt.show()"
   ]
  }
 ],
 "metadata": {
  "kernelspec": {
   "display_name": "Python 3",
   "language": "python",
   "name": "python3"
  },
  "language_info": {
   "name": "python",
   "version": "3.x"
  }
 },
 "nbformat": 4,
 "nbformat_minor": 2
}
