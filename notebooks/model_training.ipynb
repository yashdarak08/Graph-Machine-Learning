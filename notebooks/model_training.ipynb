{
 "cells": [
  {
   "cell_type": "markdown",
   "metadata": {},
   "source": [
    "# Graph Neural Network Model Training\n",
    "\n",
    "This notebook demonstrates the training of a Graph Neural Network (GNN) model using the processed financial data. The steps include:\n",
    "- Loading the graph data using the custom `load_data` function\n",
    "- Initializing a Graph Convolutional Network (GCN) model\n",
    "- Training the model while monitoring the loss over epochs\n",
    "- Plotting the training loss\n",
    "- Evaluating model performance on the training data"
   ]
  },
  {
   "cell_type": "code",
   "execution_count": null,
   "metadata": {},
   "outputs": [],
   "source": [
    "import torch\n",
    "import torch.nn.functional as F\n",
    "import matplotlib.pyplot as plt\n",
    "from src.model_training import load_data, GCN\n",
    "\n",
    "# Load the graph data from processed CSV\n",
    "data, num_nodes, num_features = load_data()\n",
    "print(f'Loaded graph with {num_nodes} nodes and {num_features} feature(s) per node.')"
   ]
  },
  {
   "cell_type": "code",
   "execution_count": null,
   "metadata": {},
   "outputs": [],
   "source": [
    "# Initialize the model and optimizer\n",
    "model = GCN(num_features=num_features, hidden_channels=16, num_classes=2)\n",
    "optimizer = torch.optim.Adam(model.parameters(), lr=0.01)\n",
    "\n",
    "# Set training parameters\n",
    "epochs = 100\n",
    "loss_history = []\n",
    "\n",
    "model.train()\n",
    "for epoch in range(1, epochs + 1):\n",
    "    optimizer.zero_grad()\n",
    "    out = model(data)\n",
    "    loss = F.nll_loss(out, data.y)\n",
    "    loss.backward()\n",
    "    optimizer.step()\n",
    "    loss_history.append(loss.item())\n",
    "    if epoch % 10 == 0:\n",
    "        print(f'Epoch {epoch:03d}, Loss: {loss.item():.4f}')\n",
    "\n",
    "print('Training completed.')"
   ]
  },
  {
   "cell_type": "code",
   "execution_count": null,
   "metadata": {},
   "outputs": [],
   "source": [
    "# Plot the training loss over epochs\n",
    "plt.figure(figsize=(10, 6))\n",
    "plt.plot(range(1, epochs + 1), loss_history, marker='o')\n",
    "plt.xlabel('Epoch')\n",
    "plt.ylabel('Loss')\n",
    "plt.title('Training Loss Over Epochs')\n",
    "plt.grid(True)\n",
    "plt.show()"
   ]
  },
  {
   "cell_type": "code",
   "execution_count": null,
   "metadata": {},
   "outputs": [],
   "source": [
    "# Evaluate the model's performance on the training data\n",
    "model.eval()\n",
    "with torch.no_grad():\n",
    "    out = model(data)\n",
    "    # Get predicted classes\n",
    "    pred = out.argmax(dim=1)\n",
    "    # Calculate accuracy\n",
    "    correct = pred.eq(data.y).sum().item()\n",
    "    accuracy = correct / num_nodes\n",
    "    print(f'Accuracy on training data: {accuracy * 100:.2f}%')"
   ]
  }
 ],
 "metadata": {
  "kernelspec": {
   "display_name": "Python 3",
   "language": "python",
   "name": "python3"
  },
  "language_info": {
   "name": "python",
   "version": "3.x"
  }
 },
 "nbformat": 4,
 "nbformat_minor": 2
}
